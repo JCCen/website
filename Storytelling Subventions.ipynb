{
 "cells": [
  {
   "cell_type": "markdown",
   "metadata": {},
   "source": [
    "<div style=\"text-align: left;\">\n",
    "<table style=\"width:100%; background-color:transparent;\">\n",
    "  <tr style=\"background-color:transparent;\">\n",
    "    <td style=\"background-color:transparent;\"><a href=\"http://www.datascience-paris-saclay.fr\">\n",
    "<img border=\"0\" src=\"data:image/jpeg;base64,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\" width=\"40%\"> </td>\n",
    "  </tr>\n",
    "</table> \n",
    "</div>\n",
    "\n",
    "<center><h1> Analyse des données de subventions  </h1></center>\n",
    "<br/>\n",
    "<center> Solène Cochennec, Jaime Costa Centena </center>"
   ]
  },
  {
   "cell_type": "markdown",
   "metadata": {},
   "source": [
    "## Table of Contents\n",
    "\n",
    "\n",
    "0. [Introduction](#intro)<br>\n",
    "1. [Data Analysis](#Data-Prep) <br>"
   ]
  },
  {
   "cell_type": "markdown",
   "metadata": {},
   "source": [
    "Le but de ce projet est de travailler sur la data visualization des subventions accordées aux associations par la ville de Paris. Pour ce faire, nous travaillerons sur les données disponibles sur le site https://opendata.paris.fr,, avec un jeu de donnée de subventions acceptées et refusées.\n",
    "\n"
   ]
  },
  {
   "cell_type": "markdown",
   "metadata": {},
   "source": [
    "### Télécharger les données  "
   ]
  },
  {
   "cell_type": "markdown",
   "metadata": {},
   "source": [
    "Link to the date: https://opendata.paris.fr/explore/dataset/subventions-accordees-et-refusees/export/?disjunctive.collectivite&disjunctive.nom_beneficiaire&disjunctive.direction&disjunctive.secteurs_d_activites_definies_par_l_association"
   ]
  },
  {
   "cell_type": "markdown",
   "metadata": {},
   "source": [
    "#### Quelques détails sur le dataset\n",
    "Ne sont pas retracées les subventions des organismes non associatifs (SCOP, SCIC, fondation de coopération scientifique, sociétés d’économie mixte, établissements publics, etc), ni les aides financières imputées sur des lignes budgétaires autres que les subventions (participations, adhésions, cotisations, etc). Les contributions non financières (locaux, mise à disposition de terrains, de personnels, de panneaux d’information, de matériel, etc) n’y sont pas incluses.\n",
    "\n",
    "\n",
    "\n",
    "\n",
    "#### Variables \n",
    "\n",
    "Le dataset est composé de 10 variables : \n",
    "- $\\textbf{Année budgétaire}$ (`annee_vote`): année du vote de la subvention, qui ne correspond pas nécessairement à l’année de l’imputation budgétaire ou à l’année du versement réel de la subvention.\n",
    "- $\\textbf{Collectivité}$ (`collectivite`) : Ville ou Département (de 2013 à 2018).\n",
    "- $\\textbf{Nom Bénéficiaire}$ (`nom_beneficiaire`) : nom de l’association effectuant la demande de subvention.\n",
    "- $\\textbf{Numéro Siret}$ (`siret`) : numéro SIRET tel que déclaré par l’association (Le SIREN de la Ville de Paris est le 217 500 016 et celui du Département de Paris le 227 500 055).\n",
    "- $\\textbf{Objet du dossier}$  (`objet`): Intitulé du ou des projets déposés en faveur duquel (desquels) une subvention est sollicitée.\n",
    "- $\\textbf{Montant voté}$ (`montant`) : Montant de la subvention votée  par le Conseil de Paris, sachant que dans certains cas, la Ville de Paris a mutualisé plusieurs projets et accordé une subvention forfaitaire globale qui a été rattachée pour ordre à l’un des projets faute de pouvoir détailler la subvention sur chaque projet précis. L’absence d’un montant chiffré dans la colonne « montant voté » correspond à une demande de subvention défavorablement arbitrée.\n",
    "- $\\textbf{Direction}$ (`direction`): direction de la ville pilotant la demande de subvention (voir ci-après pour la signification des sigles des différentes directions), sachant que dans certains cas, plusieurs directions peuvent co-financer le même projet.\n",
    "- $\\textbf{Nature de la subvention}$ (`type_subvention`) : \n",
    "    - Investissement : finance les biens durables et les travaux qui constituent le patrimoine de l’association.\n",
    "    - Fonctionnement :\n",
    "        - Pour le fonctionnement annuel de l’association.\n",
    "        - Pour le financement du ou des projet.s conduits par l’association.\n",
    "        - Pour le financement d’une action dans le cadre d’un appel à projet de la Ville de Paris (ou du Département de Paris de 2013 à 2018).\n",
    "        \n",
    "- $\\textbf{Secteur d'activité}$ (`activite_association`): secteur(s) choisi(s) par les associations au moment de son inscription dans le service numérique Paris Asso, dans la limite de 3\n",
    "\n",
    "\n",
    "Les différentes directions de la ville de Paris sont détaillées sur le lien suivant : https://opendata.paris.fr/explore/dataset/subventions-accordees-et-refusees/information/?disjunctive.collectivite&disjunctive.nom_beneficiaire&disjunctive.direction&disjunctive.secteurs_d_activites_definies_par_l_association"
   ]
  },
  {
   "cell_type": "markdown",
   "metadata": {},
   "source": [
    "### Recupérer les données "
   ]
  },
  {
   "cell_type": "code",
   "execution_count": 9,
   "metadata": {},
   "outputs": [],
   "source": [
    "import pandas as pd\n",
    "import numpy as np\n",
    "import os \n",
    "import matplotlib.pyplot as plt"
   ]
  },
  {
   "cell_type": "code",
   "execution_count": 10,
   "metadata": {},
   "outputs": [],
   "source": [
    "from data_cleaning import preparation_data"
   ]
  },
  {
   "cell_type": "code",
   "execution_count": 11,
   "metadata": {},
   "outputs": [],
   "source": [
    "path = '/Users/solene/Desktop/Projet/Data/' ## Path Solene\n",
    "\n",
    "df_subventions = preparation_data(path)"
   ]
  },
  {
   "cell_type": "code",
   "execution_count": 12,
   "metadata": {},
   "outputs": [
    {
     "data": {
      "text/html": [
       "<div>\n",
       "<style scoped>\n",
       "    .dataframe tbody tr th:only-of-type {\n",
       "        vertical-align: middle;\n",
       "    }\n",
       "\n",
       "    .dataframe tbody tr th {\n",
       "        vertical-align: top;\n",
       "    }\n",
       "\n",
       "    .dataframe thead th {\n",
       "        text-align: right;\n",
       "    }\n",
       "</style>\n",
       "<table border=\"1\" class=\"dataframe\">\n",
       "  <thead>\n",
       "    <tr style=\"text-align: right;\">\n",
       "      <th></th>\n",
       "      <th>id</th>\n",
       "      <th>annee</th>\n",
       "      <th>collectivite</th>\n",
       "      <th>nom_beneficiaire</th>\n",
       "      <th>siret</th>\n",
       "      <th>objet</th>\n",
       "      <th>montant</th>\n",
       "      <th>direction</th>\n",
       "      <th>type_subvention</th>\n",
       "      <th>activite_association</th>\n",
       "    </tr>\n",
       "  </thead>\n",
       "  <tbody>\n",
       "    <tr>\n",
       "      <th>0</th>\n",
       "      <td>2017_04920</td>\n",
       "      <td>2017</td>\n",
       "      <td>Ville de Paris</td>\n",
       "      <td>MULTI'COLORS</td>\n",
       "      <td>45355810800016</td>\n",
       "      <td>aap pvi LIEN SOCIAL au Refuge urbain python: \"...</td>\n",
       "      <td>2000</td>\n",
       "      <td>DEVE</td>\n",
       "      <td>Projet</td>\n",
       "      <td>Culture &amp; Arts;Environnement &amp; écologie;Social</td>\n",
       "    </tr>\n",
       "    <tr>\n",
       "      <th>1</th>\n",
       "      <td>2016_08398</td>\n",
       "      <td>2017</td>\n",
       "      <td>Ville de Paris</td>\n",
       "      <td>MULTI-DECOUVERTES</td>\n",
       "      <td>81396408700015</td>\n",
       "      <td>démarrage de l'activité</td>\n",
       "      <td>800</td>\n",
       "      <td>DJS</td>\n",
       "      <td>Fonctionnement</td>\n",
       "      <td>Culture &amp; Arts;Loisirs;Sport</td>\n",
       "    </tr>\n",
       "    <tr>\n",
       "      <th>2</th>\n",
       "      <td>2017_07855</td>\n",
       "      <td>2017</td>\n",
       "      <td>Ville de Paris</td>\n",
       "      <td>MUSÉE D'ART ET D'HISTOIRE DU JUDAÏSME</td>\n",
       "      <td>34843510800017</td>\n",
       "      <td>Subvention d'investissement : mise en place d'...</td>\n",
       "      <td>50000</td>\n",
       "      <td>DAC</td>\n",
       "      <td>Investissement</td>\n",
       "      <td>Culture &amp; Arts;Education &amp; formation;Mémoire</td>\n",
       "    </tr>\n",
       "    <tr>\n",
       "      <th>3</th>\n",
       "      <td>2017_05731</td>\n",
       "      <td>2017</td>\n",
       "      <td>Ville de Paris</td>\n",
       "      <td>MUSICA ANDALUCIA</td>\n",
       "      <td>48223420000020</td>\n",
       "      <td>TAP 2017 Atelier Théâtre musical</td>\n",
       "      <td>4950</td>\n",
       "      <td>DASCO</td>\n",
       "      <td>Fonctionnement</td>\n",
       "      <td>Culture &amp; Arts</td>\n",
       "    </tr>\n",
       "    <tr>\n",
       "      <th>4</th>\n",
       "      <td>2017_04795</td>\n",
       "      <td>2017</td>\n",
       "      <td>Ville de Paris</td>\n",
       "      <td>MUSIQUES ET CULTURES DIGITALES</td>\n",
       "      <td>49313113000020</td>\n",
       "      <td>Ateliers \"EnReportagePermanent\" 2017</td>\n",
       "      <td>0</td>\n",
       "      <td>DDCT</td>\n",
       "      <td>Non précisée</td>\n",
       "      <td>Communication &amp; média;Culture &amp; Arts;Mémoire</td>\n",
       "    </tr>\n",
       "  </tbody>\n",
       "</table>\n",
       "</div>"
      ],
      "text/plain": [
       "           id  annee    collectivite                       nom_beneficiaire  \\\n",
       "0  2017_04920   2017  Ville de Paris                           MULTI'COLORS   \n",
       "1  2016_08398   2017  Ville de Paris                      MULTI-DECOUVERTES   \n",
       "2  2017_07855   2017  Ville de Paris  MUSÉE D'ART ET D'HISTOIRE DU JUDAÏSME   \n",
       "3  2017_05731   2017  Ville de Paris                       MUSICA ANDALUCIA   \n",
       "4  2017_04795   2017  Ville de Paris         MUSIQUES ET CULTURES DIGITALES   \n",
       "\n",
       "            siret                                              objet  montant  \\\n",
       "0  45355810800016  aap pvi LIEN SOCIAL au Refuge urbain python: \"...     2000   \n",
       "1  81396408700015                            démarrage de l'activité      800   \n",
       "2  34843510800017  Subvention d'investissement : mise en place d'...    50000   \n",
       "3  48223420000020                   TAP 2017 Atelier Théâtre musical     4950   \n",
       "4  49313113000020               Ateliers \"EnReportagePermanent\" 2017        0   \n",
       "\n",
       "  direction type_subvention                            activite_association  \n",
       "0      DEVE          Projet  Culture & Arts;Environnement & écologie;Social  \n",
       "1       DJS  Fonctionnement                    Culture & Arts;Loisirs;Sport  \n",
       "2       DAC  Investissement    Culture & Arts;Education & formation;Mémoire  \n",
       "3     DASCO  Fonctionnement                                  Culture & Arts  \n",
       "4      DDCT    Non précisée    Communication & média;Culture & Arts;Mémoire  "
      ]
     },
     "execution_count": 12,
     "metadata": {},
     "output_type": "execute_result"
    }
   ],
   "source": [
    "df_subventions.head()"
   ]
  },
  {
   "cell_type": "code",
   "execution_count": 13,
   "metadata": {},
   "outputs": [
    {
     "data": {
      "text/plain": [
       "(59584, 10)"
      ]
     },
     "execution_count": 13,
     "metadata": {},
     "output_type": "execute_result"
    }
   ],
   "source": [
    "df_subventions.shape"
   ]
  },
  {
   "cell_type": "code",
   "execution_count": 14,
   "metadata": {},
   "outputs": [
    {
     "data": {
      "text/plain": [
       "id                      0.000000\n",
       "annee                   0.000000\n",
       "collectivite            0.000000\n",
       "nom_beneficiaire        0.000352\n",
       "siret                   0.002652\n",
       "objet                   0.000000\n",
       "montant                 0.000000\n",
       "direction               0.000000\n",
       "type_subvention         0.000000\n",
       "activite_association    0.000503\n",
       "dtype: float64"
      ]
     },
     "execution_count": 14,
     "metadata": {},
     "output_type": "execute_result"
    }
   ],
   "source": [
    "df_subventions.isna().sum() / df_subventions.shape[0]"
   ]
  },
  {
   "cell_type": "code",
   "execution_count": 15,
   "metadata": {},
   "outputs": [
    {
     "data": {
      "text/plain": [
       "id                      object\n",
       "annee                    int64\n",
       "collectivite            object\n",
       "nom_beneficiaire        object\n",
       "siret                   object\n",
       "objet                   object\n",
       "montant                  int64\n",
       "direction               object\n",
       "type_subvention         object\n",
       "activite_association    object\n",
       "dtype: object"
      ]
     },
     "execution_count": 15,
     "metadata": {},
     "output_type": "execute_result"
    }
   ],
   "source": [
    "df_subventions.dtypes"
   ]
  },
  {
   "cell_type": "code",
   "execution_count": null,
   "metadata": {},
   "outputs": [],
   "source": []
  }
 ],
 "metadata": {
  "kernelspec": {
   "display_name": "Python 3",
   "language": "python",
   "name": "python3"
  },
  "language_info": {
   "codemirror_mode": {
    "name": "ipython",
    "version": 3
   },
   "file_extension": ".py",
   "mimetype": "text/x-python",
   "name": "python",
   "nbconvert_exporter": "python",
   "pygments_lexer": "ipython3",
   "version": "3.6.10"
  }
 },
 "nbformat": 4,
 "nbformat_minor": 2
}
